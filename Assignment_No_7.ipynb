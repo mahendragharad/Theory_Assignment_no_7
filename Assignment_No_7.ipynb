{
  "nbformat": 4,
  "nbformat_minor": 0,
  "metadata": {
    "colab": {
      "provenance": []
    },
    "kernelspec": {
      "name": "python3",
      "display_name": "Python 3"
    },
    "language_info": {
      "name": "python"
    }
  },
  "cells": [
    {
      "cell_type": "markdown",
      "source": [
        "**1. What is the name of the feature responsible for generating Regex objects?**\n",
        "\n",
        "ANS : The feature responsible for generating Regex objects is typically called a regular expression compiler or parser. This component of a programming language or library is designed to interpret and compile regular expressions, which are patterns used for matching and manipulating text. The exact name of this feature may vary depending on the programming language or framework you are using."
      ],
      "metadata": {
        "id": "8pjM_X2BRjhl"
      }
    },
    {
      "cell_type": "markdown",
      "source": [
        "\n",
        "\n",
        "---\n",
        "\n"
      ],
      "metadata": {
        "id": "d0V0naIGSfio"
      }
    },
    {
      "cell_type": "markdown",
      "source": [
        "**2. Why do raw strings often appear in Regex objects?**\n",
        "\n",
        "ANS :\n",
        "Raw strings, indicated by adding the 'r' prefix before the string literal, are commonly used in regular expressions (Regex objects) for two main reasons: to prevent unintended escape sequence interpretation and to improve readability.\n",
        "\n",
        "Preventing unintended escape sequence interpretation: Regular expressions often contain backslashes () to define special characters or escape sequences. However, Python also uses backslashes for its own escape sequences (e.g., '\\n' for a newline). Using a raw string in a regular expression prevents Python from interpreting the backslashes as escape sequences before they are processed by the regex engine. This ensures that the backslashes are treated as literal characters, which is crucial for accurate pattern matching.\n",
        "\n",
        "Improving readability: Regular expressions can include numerous backslashes and special characters, which can make the pattern complex and harder to read. By using raw strings, you avoid the need for excessive backslash escaping, resulting in cleaner and more readable regular expressions."
      ],
      "metadata": {
        "id": "r7er-SgqSg2B"
      }
    },
    {
      "cell_type": "markdown",
      "source": [
        "\n",
        "\n",
        "---\n",
        "\n"
      ],
      "metadata": {
        "id": "8TM4XryMTTuD"
      }
    },
    {
      "cell_type": "markdown",
      "source": [
        "**3. What is the return value of the search() method?**\n",
        "\n",
        "ANS : The search() method in regular expressions (Regex objects) returns a match object if a match is found in the input string, and None if no match is found."
      ],
      "metadata": {
        "id": "2Cbs0ZHiTZD5"
      }
    },
    {
      "cell_type": "markdown",
      "source": [
        "\n",
        "\n",
        "---\n",
        "\n"
      ],
      "metadata": {
        "id": "fDVdKjR5TnvA"
      }
    },
    {
      "cell_type": "markdown",
      "source": [
        "**4. From a Match item, how do you get the actual strings that match the pattern?**\n",
        "\n",
        "ANS : To retrieve the actual strings that match the pattern from a match object in regular expressions, you can use the group() method. The group() method returns the substring of the input string that matches the entire pattern or a specific capturing group within the pattern."
      ],
      "metadata": {
        "id": "rlvHaMhCToxg"
      }
    },
    {
      "cell_type": "markdown",
      "source": [
        "\n",
        "\n",
        "---\n",
        "\n"
      ],
      "metadata": {
        "id": "sRBhfhrXT6kx"
      }
    },
    {
      "cell_type": "markdown",
      "source": [
        "**5. In the regex which created from the r&#39;(\\d\\d\\d)-(\\d\\d\\d-\\d\\d\\d\\d)&#39;, what does group zero cover?\n",
        "Group 2? Group 1?**\n",
        "\n",
        "ANS : In the regular expression r'(\\d\\d\\d)-(\\d\\d\\d-\\d\\d\\d\\d)', which consists of two capturing groups, the meaning of the groups can be described as follows:\n",
        "\n",
        "Group 0 (or match.group(0)): This represents the entire matching string that satisfies the pattern. In this case, it would be the full phone number in the format of \"###-###-####\". It covers the entire pattern match.\n",
        "\n",
        "Group 1 (or match.group(1)): This refers to the first capturing group in the pattern, which is (\\d\\d\\d). It matches and captures a sequence of three digits. In this case, it would capture the first three digits of the phone number.\n",
        "\n",
        "Group 2 (or match.group(2)): This corresponds to the second capturing group in the pattern, which is (\\d\\d\\d-\\d\\d\\d\\d). It matches and captures a sequence of three digits followed by a hyphen, and then another sequence of four digits. In this case, it would capture the remaining part of the phone number after the first three digits."
      ],
      "metadata": {
        "id": "cd52DExWT8Xa"
      }
    },
    {
      "cell_type": "markdown",
      "source": [
        "\n",
        "\n",
        "---\n",
        "\n"
      ],
      "metadata": {
        "id": "K_D3p-qsUgX5"
      }
    },
    {
      "cell_type": "markdown",
      "source": [
        "**6. In standard expression syntax, parentheses and intervals have distinct meanings. How can you tell\n",
        "a regex that you want it to fit real parentheses and periods?**\n",
        "\n",
        "ANS : In regular expression syntax, parentheses and periods have special meanings as metacharacters. To match literal parentheses and periods (without their special meanings), you can use the backslash \\ to escape them. This process is known as escaping metacharacters.\n",
        "\n",
        "To indicate that you want to match literal parentheses and periods in a regular expression, you can prefix them with a backslash (\\(, \\), \\.). The backslash tells the regex engine to interpret the following character as a literal character instead of a metacharacter with its special meaning."
      ],
      "metadata": {
        "id": "rEGX5MkiUhrh"
      }
    },
    {
      "cell_type": "markdown",
      "source": [
        "\n",
        "\n",
        "---\n",
        "\n"
      ],
      "metadata": {
        "id": "zIYnPZ9RU6md"
      }
    },
    {
      "cell_type": "markdown",
      "source": [
        "**7. The findall() method returns a string list or a list of string tuples. What causes it to return one of\n",
        "the two options?**\n",
        "\n",
        "ANS : The findall() method in regular expressions (Regex objects) returns either a list of strings or a list of string tuples based on the presence of capturing groups in the regular expression pattern.\n",
        "\n",
        "If the pattern contains no capturing groups (i.e., no parentheses), findall() will return a list of strings. Each string in the list represents a complete match of the pattern in the input string.\n",
        "\n",
        "If the pattern contains one or more capturing groups, findall() will return a list of string tuples. Each tuple represents a complete match of the pattern, and the elements within the tuple correspond to the captured substrings for each capturing group."
      ],
      "metadata": {
        "id": "V19xO0AdU7s5"
      }
    },
    {
      "cell_type": "markdown",
      "source": [
        "\n",
        "\n",
        "---\n",
        "\n"
      ],
      "metadata": {
        "id": "mXyXfaekVrJ0"
      }
    },
    {
      "cell_type": "markdown",
      "source": [
        "**8. In standard expressions, what does the | character mean?**\n",
        "\n",
        "ANS : In standard regular expressions, the | character, known as the pipe or alternation operator, has a special meaning. It represents a logical OR operation, allowing you to match either one pattern or another.\n",
        "\n",
        "The | character separates two or more alternative patterns and matches any one of them. It matches the leftmost pattern or the rightmost pattern that can be matched. If multiple patterns can match at the same position, the leftmost alternative takes precedence."
      ],
      "metadata": {
        "id": "2oqGQgxuVsJp"
      }
    },
    {
      "cell_type": "markdown",
      "source": [
        "\n",
        "\n",
        "---\n",
        "\n"
      ],
      "metadata": {
        "id": "J2hoKsaxV-k0"
      }
    },
    {
      "cell_type": "markdown",
      "source": [
        "**9. In regular expressions, what does the character stand for?**\n",
        "\n",
        "ANS : Here you have miss the character"
      ],
      "metadata": {
        "id": "JQ1tTWQEV_wA"
      }
    },
    {
      "cell_type": "markdown",
      "source": [
        "\n",
        "\n",
        "---\n",
        "\n"
      ],
      "metadata": {
        "id": "HAOgkN_QWQ2u"
      }
    },
    {
      "cell_type": "markdown",
      "source": [
        "**10.In regular expressions, what is the difference between the + and * characters?**\n",
        "\n",
        "ANS : In regular expressions, the + and * characters are quantifiers that specify the number of occurrences of the preceding element in the pattern.\n",
        "\n",
        "The + (plus) character indicates that the preceding element should occur one or more times. It matches if the preceding element appears at least once and can occur multiple times consecutively. If the preceding element is not present, the match fails. For example, the pattern a+ matches one or more occurrences of the letter 'a', such as \"a\", \"aa\", \"aaa\", and so on.\n",
        "\n",
        "The * (asterisk) character, on the other hand, indicates that the preceding element can occur zero or more times. It matches if the preceding element appears zero or more times consecutively. The pattern can match even if the preceding element is not present. For example, the pattern a* matches zero or more occurrences of the letter 'a', allowing for strings like \"\", \"a\", \"aa\", \"aaa\", and so on."
      ],
      "metadata": {
        "id": "DYGNPDqnWR6R"
      }
    },
    {
      "cell_type": "markdown",
      "source": [
        "\n",
        "\n",
        "---\n",
        "\n"
      ],
      "metadata": {
        "id": "1cLsKh9mWsGC"
      }
    },
    {
      "cell_type": "markdown",
      "source": [
        "**11. What is the difference between {4} and {4,5} in regular expression?**\n",
        "\n",
        "ANS : In regular expressions, the quantifiers {4} and {4,5} specify the exact number of occurrences of the preceding element in the pattern.\n",
        "\n",
        "The quantifier {4} specifies that the preceding element must occur exactly four times. It matches if the preceding element appears exactly four times consecutively. For example, the pattern a{4} matches strings that consist of four consecutive 'a' characters, such as \"aaaa\".\n",
        "\n",
        "On the other hand, the quantifier {4,5} specifies a range of occurrences for the preceding element. It matches if the preceding element appears between four and five times consecutively. It can match either four or five occurrences. For example, the pattern a{4,5} matches strings with either four or five consecutive 'a' characters, such as \"aaaa\" or \"aaaaa\""
      ],
      "metadata": {
        "id": "HSNETMEXWtfp"
      }
    },
    {
      "cell_type": "markdown",
      "source": [
        "\n",
        "\n",
        "---\n",
        "\n"
      ],
      "metadata": {
        "id": "FvlquoshXCPF"
      }
    },
    {
      "cell_type": "markdown",
      "source": [
        "**12. What do you mean by the \\d, \\w, and \\s shorthand character classes signify in regular\n",
        "expressions?**\n",
        "\n",
        "ANS :\n",
        "\n",
        "In regular expressions, the shorthand character classes \\d, \\w, and \\s represent predefined character sets that match specific types of characters.\n",
        "\n",
        "\\d - It represents the shorthand for matching digits. It matches any digit character from 0 to 9. It is equivalent to the character class [0-9].\n",
        "Example: The pattern \\d{3} matches any three consecutive digits.\n",
        "\n",
        "\\w - It represents the shorthand for matching word characters. It matches any alphanumeric character (letters, digits, and underscores). It is equivalent to the character class [a-zA-Z0-9_].\n",
        "Example: The pattern \\w+ matches one or more consecutive word characters.\n",
        "\n",
        "\\s - It represents the shorthand for matching whitespace characters. It matches any whitespace character, such as spaces, tabs, and newlines.\n",
        "Example: The pattern ^\\s+|\\s+$ matches leading and trailing whitespace in a string."
      ],
      "metadata": {
        "id": "veJ27etBXEgZ"
      }
    },
    {
      "cell_type": "markdown",
      "source": [
        "\n",
        "\n",
        "---\n",
        "\n"
      ],
      "metadata": {
        "id": "u14WiS9bXY1Y"
      }
    },
    {
      "cell_type": "markdown",
      "source": [
        "**13. What do means by \\D, \\W, and \\S shorthand character classes signify in regular expressions?**\n",
        "\n",
        "ANS : In regular expressions, the shorthand character classes \\D, \\W, and \\S are negated versions of the corresponding shorthand character classes \\d, \\w, and \\s. They represent predefined character sets that match specific types of characters, but in their negated forms.\n",
        "\n",
        "\\D - It represents the negated shorthand for matching digits. It matches any character that is not a digit. It is equivalent to the character class [^0-9].\n",
        "Example: The pattern \\D+ matches one or more consecutive non-digit characters.\n",
        "\n",
        "\\W - It represents the negated shorthand for matching word characters. It matches any character that is not an alphanumeric character or an underscore. It is equivalent to the character class [^a-zA-Z0-9_].\n",
        "Example: The pattern \\W+ matches one or more consecutive non-word characters.\n",
        "\n",
        "\\S - It represents the negated shorthand for matching whitespace characters. It matches any character that is not a whitespace character.\n",
        "Example: The pattern \\S+ matches one or more consecutive non-whitespace characters."
      ],
      "metadata": {
        "id": "81TzF91AXaMR"
      }
    },
    {
      "cell_type": "markdown",
      "source": [
        "\n",
        "\n",
        "---\n",
        "\n"
      ],
      "metadata": {
        "id": "_0xYKdMeXwCA"
      }
    },
    {
      "cell_type": "markdown",
      "source": [
        "**14. What is the difference between .*? and .*?**\n",
        "\n",
        "ANS : The difference between .*? and .* in regular expressions lies in their behavior regarding greediness and laziness.\n",
        "\n",
        ".*? - This is a lazy (non-greedy) quantifier. It matches zero or more occurrences of any character (except a newline) in a non-greedy manner. It tries to match as few characters as possible to satisfy the overall pattern. It will expand the match as needed, stopping as soon as the next part of the pattern can be satisfied.\n",
        "\n",
        ".* - This is a greedy quantifier. It also matches zero or more occurrences of any character (except a newline), but in a greedy manner. It tries to match as many characters as possible, expanding the match until the next part of the pattern cannot be satisfied."
      ],
      "metadata": {
        "id": "oOuUW_yeXx0p"
      }
    },
    {
      "cell_type": "markdown",
      "source": [
        "\n",
        "\n",
        "---\n",
        "\n"
      ],
      "metadata": {
        "id": "NVkeGsvhYHBQ"
      }
    },
    {
      "cell_type": "markdown",
      "source": [
        "**15. What is the syntax for matching both numbers and lowercase letters with a character class?**\n",
        "\n",
        "ANS : To match both numbers and lowercase letters using a character class in regular expressions, you can combine the ranges for numbers (0-9) and lowercase letters (a-z) within square brackets [].\n",
        "\n",
        "The syntax for matching both numbers and lowercase letters in a character class is [0-9a-z]. This character class will match any single character that is either a number (0-9) or a lowercase letter (a-z)."
      ],
      "metadata": {
        "id": "t5w-2HMJYH2U"
      }
    },
    {
      "cell_type": "markdown",
      "source": [
        "\n",
        "\n",
        "---\n",
        "\n"
      ],
      "metadata": {
        "id": "ie_WKD53YWdS"
      }
    },
    {
      "cell_type": "markdown",
      "source": [
        "**16. What is the procedure for making a normal expression in regax case insensitive?**\n",
        "\n",
        "ANS : To make a regular expression case-insensitive in most programming languages and regular expression engines, you can use the i flag or modifier. The i flag indicates that the pattern should match regardless of letter case.\n",
        "\n",
        "The specific syntax for enabling case-insensitive mode can vary depending on the programming language or regular expression library you are using. However, the most common approach is to append the i flag after the closing delimiter of the regular expression pattern."
      ],
      "metadata": {
        "id": "mmnaq_gTYX3L"
      }
    },
    {
      "cell_type": "markdown",
      "source": [
        "\n",
        "\n",
        "---\n",
        "\n"
      ],
      "metadata": {
        "id": "LtT89uAjYohc"
      }
    },
    {
      "cell_type": "markdown",
      "source": [
        "**17. What does the . character normally match? What does it match if re.DOTALL is passed as 2nd\n",
        "argument in re.compile()?**\n",
        "\n",
        "ANS :\n",
        "In regular expressions, the . (dot) character normally matches any character except a newline (\\n). It is often referred to as the \"wildcard\" character or the \"dot-all\" character.\n",
        "\n",
        "By default, the dot (.) matches any character except a newline character. This means that it matches letters, digits, symbols, whitespace characters, and any other character except for newline characters.\n",
        "\n",
        "However, when the re.DOTALL flag is passed as the second argument in re.compile(), it changes the behavior of the dot (.) character. The re.DOTALL flag, also known as re.S, makes the dot match any character including newline characters (\\n)."
      ],
      "metadata": {
        "id": "TKQycbMnYpr5"
      }
    },
    {
      "cell_type": "markdown",
      "source": [
        "\n",
        "\n",
        "---\n",
        "\n"
      ],
      "metadata": {
        "id": "XaSyorU-Y9vN"
      }
    },
    {
      "cell_type": "markdown",
      "source": [
        "**18. If numReg = re.compile(r&#39;\\d+&#39;), what will numRegex.sub(&#39;X&#39;, &#39;11 drummers, 10 pipers, five rings, 4\n",
        "hen&#39;) return?**\n",
        "\n",
        "ANS : If numRegex = re.compile(r'\\d+'), the numRegex.sub('X', '11 drummers, 10 pipers, five rings, 4 hen') operation will return the modified string with all the numeric substrings replaced by the letter 'X'. The resulting string will be:\n",
        "\n",
        "* **'X drummers, X pipers, five rings, X hen'**\n",
        "\n"
      ],
      "metadata": {
        "id": "WRK4I-YmY-66"
      }
    },
    {
      "cell_type": "markdown",
      "source": [
        "\n",
        "\n",
        "---\n",
        "\n"
      ],
      "metadata": {
        "id": "CGFYWU4TZTI6"
      }
    },
    {
      "cell_type": "markdown",
      "source": [
        "**19. What does passing re.VERBOSE as the 2nd argument to re.compile() allow to do?**\n",
        "\n",
        "ANS :\n",
        "Passing re.VERBOSE as the second argument to re.compile() in regular expressions allows for the use of verbose mode. Verbose mode enables the inclusion of whitespace and comments within the regular expression pattern for improved readability and maintainability.\n",
        "\n",
        "By using re.VERBOSE, you can write the regular expression pattern over multiple lines and include comments to explain the pattern's structure and purpose. Whitespace (excluding inside character classes) and comments are ignored when compiling the pattern."
      ],
      "metadata": {
        "id": "PDg1BSX_ZUGc"
      }
    },
    {
      "cell_type": "markdown",
      "source": [
        "\n",
        "\n",
        "---\n",
        "\n"
      ],
      "metadata": {
        "id": "5pBD40OuZjs3"
      }
    },
    {
      "cell_type": "markdown",
      "source": [
        "**20. How would you write a regex that match a number with comma for every three digits? It must\n",
        "match the given following:**\n",
        "\n",
        "&#39;42&#39;\n",
        "\n",
        "&#39;1,234&#39;\n",
        "\n",
        "&#39;6,368,745&#39;\n",
        "\n",
        "but not the following:\n",
        "\n",
        "&#39;12,34,567&#39;\n",
        "(which has only two digits between the commas)\n",
        "\n",
        "&#39;1234&#39;\n",
        "\n",
        "(which lacks commas)**\n",
        "\n",
        "\n",
        "ANS : To match a number with commas for every three digits, you can use the following regular expression:"
      ],
      "metadata": {
        "id": "eI1OQ6Y3Zkpn"
      }
    },
    {
      "cell_type": "code",
      "source": [
        "import re\n",
        "\n",
        "pattern = re.compile(r'^\\d{1,3}(,\\d{3})*$')\n"
      ],
      "metadata": {
        "id": "4dbW2H6WTYql"
      },
      "execution_count": 1,
      "outputs": []
    },
    {
      "cell_type": "code",
      "source": [
        "print(pattern)"
      ],
      "metadata": {
        "colab": {
          "base_uri": "https://localhost:8080/"
        },
        "id": "qMNSmHtXaJ3a",
        "outputId": "d64bf5fd-5193-4bca-cbbd-9f0db86bf00c"
      },
      "execution_count": 2,
      "outputs": [
        {
          "output_type": "stream",
          "name": "stdout",
          "text": [
            "re.compile('^\\\\d{1,3}(,\\\\d{3})*$')\n"
          ]
        }
      ]
    },
    {
      "cell_type": "markdown",
      "source": [
        "****"
      ],
      "metadata": {
        "id": "GqfZgVkkaDq2"
      }
    },
    {
      "cell_type": "markdown",
      "source": [
        "**21. How would you write a regex that matches the full name of someone whose last name is\n",
        "Watanabe? You can assume that the first name that comes before it will always be one word that\n",
        "begins with a capital letter.**\n",
        "\n",
        " The regex must match the following:\n",
        "\n",
        "&#39;Haruto Watanabe&#39;\n",
        "\n",
        "&#39;Alice Watanabe&#39;\n",
        "\n",
        "&#39;RoboCop Watanabe&#39;\n",
        "\n",
        "but not the following:\n",
        "\n",
        "&#39;haruto Watanabe&#39; (where the first name is not capitalized)\n",
        "\n",
        "&#39;Mr. Watanabe&#39; (where the preceding word has a nonletter character)\n",
        "\n",
        "&#39;Watanabe&#39; (which has no first name)\n",
        "\n",
        "&#39;Haruto watanabe&#39; (where Watanabe is not capitalized)**\n",
        "\n",
        "ANS : To match the full name of someone whose last name is \"Watanabe\" with the condition that the first name is a single capitalized word, you can use the following regular expression:"
      ],
      "metadata": {
        "id": "06QB2Hu1acez"
      }
    },
    {
      "cell_type": "code",
      "source": [
        "import re\n",
        "\n",
        "pattern = re.compile(r'^[A-Z][a-zA-Z]* Watanabe$')\n"
      ],
      "metadata": {
        "id": "txVqzo1Ca7bh"
      },
      "execution_count": 4,
      "outputs": []
    },
    {
      "cell_type": "markdown",
      "source": [
        "\n",
        "\n",
        "---\n",
        "\n"
      ],
      "metadata": {
        "id": "ENdsKMBGa9uX"
      }
    },
    {
      "cell_type": "markdown",
      "source": [
        "**22. How would you write a regex that matches a sentence where the first word is either Alice, Bob,\n",
        "or Carol; the second word is either eats, pets, or throws; the third word is apples, cats, or baseballs;\n",
        "and the sentence ends with a period? This regex should be case-insensitive.**\n",
        "\n",
        "It must match the\n",
        "following:\n",
        "\n",
        "&#39;Alice eats apples.&#39;\n",
        "\n",
        "&#39;Bob pets cats.&#39;\n",
        "\n",
        "&#39;Carol throws baseballs.&#39;\n",
        "\n",
        "&#39;Alice throws Apples.&#39;\n",
        "\n",
        "&#39;BOB EATS CATS.&#39;\n",
        "\n",
        "but not the following:\n",
        "\n",
        "&#39;RoboCop eats apples.&#39;\n",
        "\n",
        "&#39;ALICE THROWS FOOTBALLS.&#39;\n",
        "\n",
        "&#39;Carol eats 7 cats.&#39;\n",
        "\n",
        "\n",
        "ANS :\n",
        "To match a sentence that follows the specified criteria, where the first word is either Alice, Bob, or Carol; the second word is either eats, pets, or throws; the third word is either apples, cats, or baseballs; and the sentence ends with a period, you can use the following regular expression:"
      ],
      "metadata": {
        "id": "P1PxgIsua0Qz"
      }
    },
    {
      "cell_type": "code",
      "execution_count": 3,
      "metadata": {
        "id": "hJOzQmQvReYY"
      },
      "outputs": [],
      "source": [
        "import re\n",
        "\n",
        "pattern = re.compile(r'^(Alice|Bob|Carol) (eats|pets|throws) (apples|cats|baseballs)\\.$', re.IGNORECASE)\n"
      ]
    },
    {
      "cell_type": "markdown",
      "source": [
        "\n",
        "\n",
        "---\n",
        "\n"
      ],
      "metadata": {
        "id": "F3RxQx1dbX8_"
      }
    }
  ]
}